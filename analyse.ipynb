{
 "cells": [
  {
   "cell_type": "code",
   "execution_count": 2,
   "metadata": {},
   "outputs": [
    {
     "name": "stdout",
     "output_type": "stream",
     "text": [
      "[{\"message_id\": \"52ef4b71ab137b00720007d4\", \"user_id\": \"281811\", \"username\": \"qb\"}, {\"message_id\": \"52ef4d79b4907d2e23000996\", \"user_id\": \"268092\", \"username\": \"fidji\"}, {\"message_id\": \"52ef4f99344caaf903000158\", \"user_id\": \"149732\", \"username\": \"ambruleaux\"}, {\"message_id\": \"52ef50b5cfc81d7e4100090e\", \"user_id\": \"301008\", \"username\": \"EricBouchet\"}, {\"message_id\": \"52ef565b4b4451380f0008b2\", \"user_id\": \"79036\", \"username\": \"edwigedk\"}, {\"message_id\": \"52ef57693c9f0ce0030008fe\", \"user_id\": \"233049\", \"username\": \"FrancoisL44\"}, {\"message_id\": \"52ef5c11be245c9d3900092f\", \"user_id\": \"34171\", \"username\": \"cpolwin\"}, {\"message_id\": \"52ef5c73cfc81d7e41000919\", \"user_id\": \"12943\", \"username\": \"emmanuel\"}, {\"message_id\": \"52ef5cb2d75e29d72b00098e\", \"user_id\": \"211764\", \"username\": \"alexandrefronsacq\"}, {\"message_id\": \"52ef5cf7919cec5e3200095d\", \"user_id\": \"210654\", \"username\": \"remybigot\"}]\n"
     ]
    }
   ],
   "source": [
    "import json\n",
    "from mooc.utils import connect_to_db, relative_path\n",
    "\n",
    "# Se connecter à la base de données MongoDB\n",
    "client = connect_to_db(relative_path(\"config.yaml\"), \"database_mongodb\", True, \"ssh\")\n",
    "db = client['MOOC']\n",
    "collection = db['forum']\n",
    "\n",
    "# Créer une liste pour stocker les données\n",
    "data = []\n",
    "\n",
    "# Boucler sur chaque document de la collection\n",
    "for document in collection.find()[:10]:\n",
    "    # Récupérer le nom d'utilisateur et l'ID s'ils existent\n",
    "    if '_id' in document:\n",
    "        message_id = str(document['_id'])\n",
    "\n",
    "        # Récupérer la valeur de la clé 'content' s'il existe\n",
    "        if 'content' in document:\n",
    "            content = document['content']\n",
    "\n",
    "            # Créer un dictionnaire pour stocker les données de chaque document\n",
    "            document_data = {'message_id': message_id}\n",
    "\n",
    "            # Ajouter les données de la clé 'content' au dictionnaire\n",
    "            if 'user_id' in content:\n",
    "                document_data['user_id'] = content['user_id']\n",
    "\n",
    "            if 'username' in content:\n",
    "                document_data['username'] = content['username']\n",
    "\n",
    "            # Ajouter le dictionnaire à la liste de données\n",
    "            data.append(document_data)\n",
    "\n",
    "# Convertir la liste de données en JSON\n",
    "json_data = json.dumps(data)\n",
    "print(json_data)"
   ]
  },
  {
   "cell_type": "code",
   "execution_count": null,
   "metadata": {},
   "outputs": [],
   "source": []
  }
 ],
 "metadata": {
  "kernelspec": {
   "display_name": "venv",
   "language": "python",
   "name": "python3"
  },
  "language_info": {
   "codemirror_mode": {
    "name": "ipython",
    "version": 3
   },
   "file_extension": ".py",
   "mimetype": "text/x-python",
   "name": "python",
   "nbconvert_exporter": "python",
   "pygments_lexer": "ipython3",
   "version": "3.10.6"
  },
  "orig_nbformat": 4,
  "vscode": {
   "interpreter": {
    "hash": "aa88ff535ca7fa5a3de430fac6fcad221e86a3b36e70852be53eece4e42bc375"
   }
  }
 },
 "nbformat": 4,
 "nbformat_minor": 2
}
